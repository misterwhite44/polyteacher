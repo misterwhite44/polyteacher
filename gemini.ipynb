{
 "cells": [
  {
   "cell_type": "code",
   "execution_count": 1,
   "metadata": {},
   "outputs": [],
   "source": [
    "import pandas as pd\n",
    "import os"
   ]
  },
  {
   "cell_type": "code",
   "execution_count": 2,
   "metadata": {},
   "outputs": [],
   "source": [
    "data = {\n",
    "    'Français': [\"Bonjour\", \"Merci\", \"Comment tu t'appelles ?\", \"J'adore Python !\", \"Quelle est la couleur du cheval blanc d'Henri IV ?\"],\n",
    "    'Spanish': [None, None, None, None, None],\n",
    "    'English': [None, None, None, None, None],\n",
    "}\n",
    " "
   ]
  },
  {
   "cell_type": "code",
   "execution_count": 3,
   "metadata": {},
   "outputs": [
    {
     "data": {
      "text/html": [
       "<div>\n",
       "<style scoped>\n",
       "    .dataframe tbody tr th:only-of-type {\n",
       "        vertical-align: middle;\n",
       "    }\n",
       "\n",
       "    .dataframe tbody tr th {\n",
       "        vertical-align: top;\n",
       "    }\n",
       "\n",
       "    .dataframe thead th {\n",
       "        text-align: right;\n",
       "    }\n",
       "</style>\n",
       "<table border=\"1\" class=\"dataframe\">\n",
       "  <thead>\n",
       "    <tr style=\"text-align: right;\">\n",
       "      <th></th>\n",
       "      <th>Français</th>\n",
       "      <th>Spanish</th>\n",
       "      <th>English</th>\n",
       "    </tr>\n",
       "  </thead>\n",
       "  <tbody>\n",
       "    <tr>\n",
       "      <th>0</th>\n",
       "      <td>Bonjour</td>\n",
       "      <td>None</td>\n",
       "      <td>None</td>\n",
       "    </tr>\n",
       "    <tr>\n",
       "      <th>1</th>\n",
       "      <td>Merci</td>\n",
       "      <td>None</td>\n",
       "      <td>None</td>\n",
       "    </tr>\n",
       "    <tr>\n",
       "      <th>2</th>\n",
       "      <td>Comment tu t'appelles ?</td>\n",
       "      <td>None</td>\n",
       "      <td>None</td>\n",
       "    </tr>\n",
       "    <tr>\n",
       "      <th>3</th>\n",
       "      <td>J'adore Python !</td>\n",
       "      <td>None</td>\n",
       "      <td>None</td>\n",
       "    </tr>\n",
       "    <tr>\n",
       "      <th>4</th>\n",
       "      <td>Quelle est la couleur du cheval blanc d'Henri ...</td>\n",
       "      <td>None</td>\n",
       "      <td>None</td>\n",
       "    </tr>\n",
       "  </tbody>\n",
       "</table>\n",
       "</div>"
      ],
      "text/plain": [
       "                                            Français Spanish English\n",
       "0                                            Bonjour    None    None\n",
       "1                                              Merci    None    None\n",
       "2                            Comment tu t'appelles ?    None    None\n",
       "3                                   J'adore Python !    None    None\n",
       "4  Quelle est la couleur du cheval blanc d'Henri ...    None    None"
      ]
     },
     "execution_count": 3,
     "metadata": {},
     "output_type": "execute_result"
    }
   ],
   "source": [
    "dataframe = pd.DataFrame(data)\n",
    "dataframe"
   ]
  },
  {
   "cell_type": "code",
   "execution_count": null,
   "metadata": {},
   "outputs": [
    {
     "name": "stderr",
     "output_type": "stream",
     "text": [
      "c:\\Users\\test1\\Documents\\Code\\atelier-api-ia\\venv\\Lib\\site-packages\\tqdm\\auto.py:21: TqdmWarning: IProgress not found. Please update jupyter and ipywidgets. See https://ipywidgets.readthedocs.io/en/stable/user_install.html\n",
      "  from .autonotebook import tqdm as notebook_tqdm\n"
     ]
    }
   ],
   "source": [
    "import google.generativeai as genai\n",
    "\n",
    "def translator(prompt: str, language: str) -> str:\n",
    "    api_key = os.environ.get('GOOGLE_API_KEY') # To complete\n",
    "    genai.configure(api_key=api_key)\n",
    "\n",
    "    match language.lower():\n",
    "\n",
    "        case \"spanish\":\n",
    "            lang_prompt = \"en espagnol\"\n",
    "\n",
    "        case \"english\":\n",
    "            lang_prompt = \"en anglais\"\n",
    "\n",
    "        case \"italian\":\n",
    "            lang_prompt = \"en italien\"\n",
    "\n",
    "        case _:\n",
    "            raise ValueError(\"Language not supported\")\n",
    "\n",
    "    prompt = f\"\"\"\n",
    "        Traduis \"{prompt}\" {lang_prompt} et renvoie uniquement la traduction.\n",
    "    \"\"\"\n",
    "\n",
    "    model = genai.GenerativeModel(\"gemini-1.5-flash\")\n",
    "    response = model.generate_content(prompt)\n",
    "    return response.text"
   ]
  },
  {
   "cell_type": "code",
   "execution_count": 54,
   "metadata": {},
   "outputs": [],
   "source": [
    "#translator(\"Bonjour\")"
   ]
  },
  {
   "cell_type": "code",
   "execution_count": 5,
   "metadata": {},
   "outputs": [],
   "source": [
    "dataframe[\"Spanish\"] = dataframe[\"Français\"].apply(lambda x: translator(x, \"Spanish\"))\n",
    "dataframe[\"English\"] = dataframe[\"Français\"].apply(lambda x: translator(x, \"English\"))"
   ]
  },
  {
   "cell_type": "code",
   "execution_count": 6,
   "metadata": {},
   "outputs": [
    {
     "data": {
      "text/html": [
       "<div>\n",
       "<style scoped>\n",
       "    .dataframe tbody tr th:only-of-type {\n",
       "        vertical-align: middle;\n",
       "    }\n",
       "\n",
       "    .dataframe tbody tr th {\n",
       "        vertical-align: top;\n",
       "    }\n",
       "\n",
       "    .dataframe thead th {\n",
       "        text-align: right;\n",
       "    }\n",
       "</style>\n",
       "<table border=\"1\" class=\"dataframe\">\n",
       "  <thead>\n",
       "    <tr style=\"text-align: right;\">\n",
       "      <th></th>\n",
       "      <th>Français</th>\n",
       "      <th>Spanish</th>\n",
       "      <th>English</th>\n",
       "    </tr>\n",
       "  </thead>\n",
       "  <tbody>\n",
       "    <tr>\n",
       "      <th>0</th>\n",
       "      <td>Bonjour</td>\n",
       "      <td>Hola\\n</td>\n",
       "      <td>Hello\\n</td>\n",
       "    </tr>\n",
       "    <tr>\n",
       "      <th>1</th>\n",
       "      <td>Merci</td>\n",
       "      <td>Gracias\\n</td>\n",
       "      <td>Thank you\\n</td>\n",
       "    </tr>\n",
       "    <tr>\n",
       "      <th>2</th>\n",
       "      <td>Comment tu t'appelles ?</td>\n",
       "      <td>¿Cómo te llamas?\\n</td>\n",
       "      <td>What's your name?\\n</td>\n",
       "    </tr>\n",
       "    <tr>\n",
       "      <th>3</th>\n",
       "      <td>J'adore Python !</td>\n",
       "      <td>¡Me encanta Python!\\n</td>\n",
       "      <td>I love Python!\\n</td>\n",
       "    </tr>\n",
       "    <tr>\n",
       "      <th>4</th>\n",
       "      <td>Quelle est la couleur du cheval blanc d'Henri ...</td>\n",
       "      <td>¿De qué color es el caballo blanco de Enrique ...</td>\n",
       "      <td>What color is Henry IV's white horse?\\n</td>\n",
       "    </tr>\n",
       "  </tbody>\n",
       "</table>\n",
       "</div>"
      ],
      "text/plain": [
       "                                            Français  \\\n",
       "0                                            Bonjour   \n",
       "1                                              Merci   \n",
       "2                            Comment tu t'appelles ?   \n",
       "3                                   J'adore Python !   \n",
       "4  Quelle est la couleur du cheval blanc d'Henri ...   \n",
       "\n",
       "                                             Spanish  \\\n",
       "0                                             Hola\\n   \n",
       "1                                          Gracias\\n   \n",
       "2                                 ¿Cómo te llamas?\\n   \n",
       "3                              ¡Me encanta Python!\\n   \n",
       "4  ¿De qué color es el caballo blanco de Enrique ...   \n",
       "\n",
       "                                   English  \n",
       "0                                  Hello\\n  \n",
       "1                              Thank you\\n  \n",
       "2                      What's your name?\\n  \n",
       "3                         I love Python!\\n  \n",
       "4  What color is Henry IV's white horse?\\n  "
      ]
     },
     "execution_count": 6,
     "metadata": {},
     "output_type": "execute_result"
    }
   ],
   "source": [
    "dataframe.to_csv(\"sandbox/all_translations.csv\", index=False, sep=\";\")  \n",
    "dataframe "
   ]
  },
  {
   "cell_type": "code",
   "execution_count": null,
   "metadata": {},
   "outputs": [],
   "source": []
  }
 ],
 "metadata": {
  "kernelspec": {
   "display_name": "venv",
   "language": "python",
   "name": "python3"
  },
  "language_info": {
   "codemirror_mode": {
    "name": "ipython",
    "version": 3
   },
   "file_extension": ".py",
   "mimetype": "text/x-python",
   "name": "python",
   "nbconvert_exporter": "python",
   "pygments_lexer": "ipython3",
   "version": "3.12.7"
  }
 },
 "nbformat": 4,
 "nbformat_minor": 2
}
